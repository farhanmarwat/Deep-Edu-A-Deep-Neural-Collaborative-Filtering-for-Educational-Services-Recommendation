{
  "nbformat": 4,
  "nbformat_minor": 0,
  "metadata": {
    "colab": {
      "provenance": []
    },
    "kernelspec": {
      "name": "python3",
      "display_name": "Python 3"
    },
    "accelerator": "GPU"
  },
  "cells": [
    {
      "cell_type": "code",
      "metadata": {
        "id": "PAIOwUdmJkRN",
        "colab": {
          "base_uri": "https://localhost:8080/"
        },
        "outputId": "6b607149-bd11-405f-9cc9-e146335cf7eb"
      },
      "source": [
        "from google.colab import drive\n",
        "drive.mount('/content/drive')"
      ],
      "execution_count": null,
      "outputs": [
        {
          "output_type": "stream",
          "text": [
            "Mounted at /content/drive\n"
          ],
          "name": "stdout"
        }
      ]
    },
    {
      "cell_type": "code",
      "metadata": {
        "id": "TV6TvGLEM4LE"
      },
      "source": [
        "import pandas as pd\n",
        "import numpy as np\n",
        "import matplotlib.pyplot as plt\n",
        "import warnings\n",
        "warnings.filterwarnings('ignore')"
      ],
      "execution_count": null,
      "outputs": []
    },
    {
      "cell_type": "code",
      "metadata": {
        "id": "wjGuSq8PM7oG",
        "colab": {
          "base_uri": "https://localhost:8080/",
          "height": 202
        },
        "outputId": "21abbc03-dea0-4bd3-b36b-784cb4f84390"
      },
      "source": [
        "dataset = pd.read_csv(\"/content/drive/My Drive/books and rating data/New_Ratings_Data_set/books_ratings.csv\")\n",
        "\n",
        "dataset.head()"
      ],
      "execution_count": null,
      "outputs": [
        {
          "output_type": "execute_result",
          "data": {
            "text/html": [
              "<div>\n",
              "<style scoped>\n",
              "    .dataframe tbody tr th:only-of-type {\n",
              "        vertical-align: middle;\n",
              "    }\n",
              "\n",
              "    .dataframe tbody tr th {\n",
              "        vertical-align: top;\n",
              "    }\n",
              "\n",
              "    .dataframe thead th {\n",
              "        text-align: right;\n",
              "    }\n",
              "</style>\n",
              "<table border=\"1\" class=\"dataframe\">\n",
              "  <thead>\n",
              "    <tr style=\"text-align: right;\">\n",
              "      <th></th>\n",
              "      <th>book_id</th>\n",
              "      <th>user_id</th>\n",
              "      <th>rating</th>\n",
              "    </tr>\n",
              "  </thead>\n",
              "  <tbody>\n",
              "    <tr>\n",
              "      <th>0</th>\n",
              "      <td>1</td>\n",
              "      <td>314</td>\n",
              "      <td>5</td>\n",
              "    </tr>\n",
              "    <tr>\n",
              "      <th>1</th>\n",
              "      <td>1</td>\n",
              "      <td>439</td>\n",
              "      <td>3</td>\n",
              "    </tr>\n",
              "    <tr>\n",
              "      <th>2</th>\n",
              "      <td>1</td>\n",
              "      <td>588</td>\n",
              "      <td>5</td>\n",
              "    </tr>\n",
              "    <tr>\n",
              "      <th>3</th>\n",
              "      <td>1</td>\n",
              "      <td>1169</td>\n",
              "      <td>4</td>\n",
              "    </tr>\n",
              "    <tr>\n",
              "      <th>4</th>\n",
              "      <td>1</td>\n",
              "      <td>1185</td>\n",
              "      <td>4</td>\n",
              "    </tr>\n",
              "  </tbody>\n",
              "</table>\n",
              "</div>"
            ],
            "text/plain": [
              "   book_id  user_id  rating\n",
              "0        1      314       5\n",
              "1        1      439       3\n",
              "2        1      588       5\n",
              "3        1     1169       4\n",
              "4        1     1185       4"
            ]
          },
          "metadata": {
            "tags": []
          },
          "execution_count": 3
        }
      ]
    },
    {
      "cell_type": "code",
      "metadata": {
        "id": "yPKukKkvNAW4",
        "colab": {
          "base_uri": "https://localhost:8080/",
          "height": 202
        },
        "outputId": "75677544-a546-484d-af4d-fa784ddf5acb"
      },
      "source": [
        "len(dataset.user_id.unique()), len(dataset.book_id.unique())\n",
        "\n",
        "dataset.user_id = dataset.user_id.astype('category').cat.codes.values\n",
        "dataset.item_id = dataset.book_id.astype('category').cat.codes.values\n",
        "\n",
        "dataset.head()"
      ],
      "execution_count": null,
      "outputs": [
        {
          "output_type": "execute_result",
          "data": {
            "text/html": [
              "<div>\n",
              "<style scoped>\n",
              "    .dataframe tbody tr th:only-of-type {\n",
              "        vertical-align: middle;\n",
              "    }\n",
              "\n",
              "    .dataframe tbody tr th {\n",
              "        vertical-align: top;\n",
              "    }\n",
              "\n",
              "    .dataframe thead th {\n",
              "        text-align: right;\n",
              "    }\n",
              "</style>\n",
              "<table border=\"1\" class=\"dataframe\">\n",
              "  <thead>\n",
              "    <tr style=\"text-align: right;\">\n",
              "      <th></th>\n",
              "      <th>book_id</th>\n",
              "      <th>user_id</th>\n",
              "      <th>rating</th>\n",
              "    </tr>\n",
              "  </thead>\n",
              "  <tbody>\n",
              "    <tr>\n",
              "      <th>0</th>\n",
              "      <td>1</td>\n",
              "      <td>313</td>\n",
              "      <td>5</td>\n",
              "    </tr>\n",
              "    <tr>\n",
              "      <th>1</th>\n",
              "      <td>1</td>\n",
              "      <td>438</td>\n",
              "      <td>3</td>\n",
              "    </tr>\n",
              "    <tr>\n",
              "      <th>2</th>\n",
              "      <td>1</td>\n",
              "      <td>587</td>\n",
              "      <td>5</td>\n",
              "    </tr>\n",
              "    <tr>\n",
              "      <th>3</th>\n",
              "      <td>1</td>\n",
              "      <td>1168</td>\n",
              "      <td>4</td>\n",
              "    </tr>\n",
              "    <tr>\n",
              "      <th>4</th>\n",
              "      <td>1</td>\n",
              "      <td>1184</td>\n",
              "      <td>4</td>\n",
              "    </tr>\n",
              "  </tbody>\n",
              "</table>\n",
              "</div>"
            ],
            "text/plain": [
              "   book_id  user_id  rating\n",
              "0        1      313       5\n",
              "1        1      438       3\n",
              "2        1      587       5\n",
              "3        1     1168       4\n",
              "4        1     1184       4"
            ]
          },
          "metadata": {
            "tags": []
          },
          "execution_count": 4
        }
      ]
    },
    {
      "cell_type": "code",
      "metadata": {
        "id": "0aO3m6xDNBY6",
        "colab": {
          "base_uri": "https://localhost:8080/",
          "height": 204
        },
        "outputId": "e58d6bdc-acf0-4655-a2ca-90ddad0d95b8"
      },
      "source": [
        "from sklearn.model_selection import train_test_split\n",
        "train, test = train_test_split(dataset, test_size=0.7)\n",
        "train.head()\n",
        "\n",
        "test.head()"
      ],
      "execution_count": null,
      "outputs": [
        {
          "output_type": "execute_result",
          "data": {
            "text/html": [
              "<div>\n",
              "<style scoped>\n",
              "    .dataframe tbody tr th:only-of-type {\n",
              "        vertical-align: middle;\n",
              "    }\n",
              "\n",
              "    .dataframe tbody tr th {\n",
              "        vertical-align: top;\n",
              "    }\n",
              "\n",
              "    .dataframe thead th {\n",
              "        text-align: right;\n",
              "    }\n",
              "</style>\n",
              "<table border=\"1\" class=\"dataframe\">\n",
              "  <thead>\n",
              "    <tr style=\"text-align: right;\">\n",
              "      <th></th>\n",
              "      <th>book_id</th>\n",
              "      <th>user_id</th>\n",
              "      <th>rating</th>\n",
              "    </tr>\n",
              "  </thead>\n",
              "  <tbody>\n",
              "    <tr>\n",
              "      <th>504206</th>\n",
              "      <td>5056</td>\n",
              "      <td>43717</td>\n",
              "      <td>5</td>\n",
              "    </tr>\n",
              "    <tr>\n",
              "      <th>53877</th>\n",
              "      <td>539</td>\n",
              "      <td>43031</td>\n",
              "      <td>3</td>\n",
              "    </tr>\n",
              "    <tr>\n",
              "      <th>139515</th>\n",
              "      <td>1396</td>\n",
              "      <td>16586</td>\n",
              "      <td>4</td>\n",
              "    </tr>\n",
              "    <tr>\n",
              "      <th>77130</th>\n",
              "      <td>772</td>\n",
              "      <td>9671</td>\n",
              "      <td>4</td>\n",
              "    </tr>\n",
              "    <tr>\n",
              "      <th>183537</th>\n",
              "      <td>1836</td>\n",
              "      <td>37480</td>\n",
              "      <td>4</td>\n",
              "    </tr>\n",
              "  </tbody>\n",
              "</table>\n",
              "</div>"
            ],
            "text/plain": [
              "        book_id  user_id  rating\n",
              "504206     5056    43717       5\n",
              "53877       539    43031       3\n",
              "139515     1396    16586       4\n",
              "77130       772     9671       4\n",
              "183537     1836    37480       4"
            ]
          },
          "metadata": {
            "tags": []
          },
          "execution_count": 50
        }
      ]
    },
    {
      "cell_type": "code",
      "metadata": {
        "id": "ow9Zv-tXNFxN"
      },
      "source": [
        "import keras\n",
        "from IPython.display import SVG\n",
        "from keras.optimizers import Adam\n",
        "from keras.utils.vis_utils import model_to_dot\n",
        "n_users, n_book = len(dataset.user_id.unique()), len(dataset.book_id.unique())"
      ],
      "execution_count": null,
      "outputs": []
    },
    {
      "cell_type": "code",
      "metadata": {
        "id": "jFt1b5G4NJKR"
      },
      "source": [
        "import keras\n",
        "from IPython.display import SVG\n",
        "from keras.optimizers import Adam\n",
        "from keras.utils.vis_utils import model_to_dot\n",
        "n_users, n_book = len(dataset.user_id.unique()), len(dataset.book_id.unique())"
      ],
      "execution_count": null,
      "outputs": []
    },
    {
      "cell_type": "code",
      "metadata": {
        "id": "GAw0g_HvQbdg",
        "colab": {
          "base_uri": "https://localhost:8080/"
        },
        "outputId": "597b49e5-1207-4006-8e58-2eae12d27cc7"
      },
      "source": [
        "n_users = len(dataset.user_id.unique())\n",
        "n_users"
      ],
      "execution_count": null,
      "outputs": [
        {
          "output_type": "execute_result",
          "data": {
            "text/plain": [
              "53424"
            ]
          },
          "metadata": {
            "tags": []
          },
          "execution_count": 6
        }
      ]
    },
    {
      "cell_type": "code",
      "metadata": {
        "id": "u7JE4SEDNSSk"
      },
      "source": [
        "from keras.layers import Concatenate, Dense, Dropout\n",
        "from keras import regularizers\n",
        "from keras import losses\n",
        "import tensorflow as tf\n",
        "\n",
        "\n",
        "n_latent_factors_user = 5\n",
        "n_latent_factors_book = 8\n",
        "\n",
        "book_input = keras.layers.Input(shape=[1],name='Item')\n",
        "book_embedding = keras.layers.Embedding(n_book + 1, n_latent_factors_book, name='book-Embedding')(book_input)\n",
        "book_vec = keras.layers.Flatten(name='Flattenbook')(book_embedding)\n",
        "book_vec = keras.layers.Dropout(0.2)(book_vec)\n",
        "\n",
        "\n",
        "user_input = keras.layers.Input(shape=[1],name='User')\n",
        "user_vec = keras.layers.Flatten(name='FlattenUsers')(keras.layers.Embedding(n_users + 1, n_latent_factors_user,name='User-Embedding')(user_input))\n",
        "user_vec = keras.layers.Dropout(0.2)(user_vec)\n",
        "\n",
        "\n",
        "\n",
        "concat = Concatenate()([book_vec,user_vec])\n",
        "dense_1 = keras.layers.Dense(256,name='FullyConnected_1', activation='relu', kernel_regularizer=regularizers.l2(0.01))(concat)\n",
        "dense_2 = keras.layers.Dense(128,name='FullyConnected_2', activation='relu', kernel_regularizer=regularizers.l2(0.01))(dense_1)\n",
        "dense_3 = keras.layers.Dense(64,name='FullyConnected_3', activation='relu', kernel_regularizer=regularizers.l2(0.01))(dense_2)\n",
        "dense_4 = keras.layers.Dense(32,name='FullyConnected_4', activation='relu', kernel_regularizer=regularizers.l2(0.01))(dense_3)\n",
        "\n",
        "dense_5 = keras.layers.Dense(16,name='FullyConnected_5', activation='relu')(dense_4)\n",
        "\n",
        "\n",
        "result = keras.layers.Dense(1, activation='relu',name='Activation')(dense_5)\n",
        "adam = Adam(lr=0.00146)\n",
        "model = keras.Model([user_input, book_input], result)\n",
        "model.compile(optimizer=adam, loss=tf.keras.losses.Huber(), metrics=['accuracy'])"
      ],
      "execution_count": null,
      "outputs": []
    },
    {
      "cell_type": "code",
      "metadata": {
        "id": "EtcdCnb0Ncz8",
        "colab": {
          "base_uri": "https://localhost:8080/",
          "height": 1000
        },
        "outputId": "e26a24a3-18e8-4a7e-f236-60c485c76ffc"
      },
      "source": [
        "SVG(model_to_dot(model,  show_shapes=True, show_layer_names=True, rankdir='HB').create(prog='dot', format='svg'))\n"
      ],
      "execution_count": null,
      "outputs": [
        {
          "output_type": "execute_result",
          "data": {
            "text/plain": [
              "<IPython.core.display.SVG object>"
            ],
            "image/svg+xml": "<svg height=\"1180pt\" viewBox=\"0.00 0.00 650.00 885.00\" width=\"867pt\" xmlns=\"http://www.w3.org/2000/svg\" xmlns:xlink=\"http://www.w3.org/1999/xlink\">\n<g class=\"graph\" id=\"graph0\" transform=\"scale(1.3333 1.3333) rotate(0) translate(4 881)\">\n<title>G</title>\n<polygon fill=\"#ffffff\" points=\"-4,4 -4,-881 646,-881 646,4 -4,4\" stroke=\"transparent\"/>\n<!-- 139639375854056 -->\n<g class=\"node\" id=\"node1\">\n<title>139639375854056</title>\n<polygon fill=\"none\" points=\"43.5,-830.5 43.5,-876.5 270.5,-876.5 270.5,-830.5 43.5,-830.5\" stroke=\"#000000\"/>\n<text fill=\"#000000\" font-family=\"Times,serif\" font-size=\"14.00\" text-anchor=\"middle\" x=\"100\" y=\"-849.8\">Item: InputLayer</text>\n<polyline fill=\"none\" points=\"156.5,-830.5 156.5,-876.5 \" stroke=\"#000000\"/>\n<text fill=\"#000000\" font-family=\"Times,serif\" font-size=\"14.00\" text-anchor=\"middle\" x=\"185.5\" y=\"-861.3\">input:</text>\n<polyline fill=\"none\" points=\"156.5,-853.5 214.5,-853.5 \" stroke=\"#000000\"/>\n<text fill=\"#000000\" font-family=\"Times,serif\" font-size=\"14.00\" text-anchor=\"middle\" x=\"185.5\" y=\"-838.3\">output:</text>\n<polyline fill=\"none\" points=\"214.5,-830.5 214.5,-876.5 \" stroke=\"#000000\"/>\n<text fill=\"#000000\" font-family=\"Times,serif\" font-size=\"14.00\" text-anchor=\"middle\" x=\"242.5\" y=\"-861.3\">[(?, 1)]</text>\n<polyline fill=\"none\" points=\"214.5,-853.5 270.5,-853.5 \" stroke=\"#000000\"/>\n<text fill=\"#000000\" font-family=\"Times,serif\" font-size=\"14.00\" text-anchor=\"middle\" x=\"242.5\" y=\"-838.3\">[(?, 1)]</text>\n</g>\n<!-- 139641219188104 -->\n<g class=\"node\" id=\"node3\">\n<title>139641219188104</title>\n<polygon fill=\"none\" points=\"0,-747.5 0,-793.5 314,-793.5 314,-747.5 0,-747.5\" stroke=\"#000000\"/>\n<text fill=\"#000000\" font-family=\"Times,serif\" font-size=\"14.00\" text-anchor=\"middle\" x=\"97\" y=\"-766.8\">book-Embedding: Embedding</text>\n<polyline fill=\"none\" points=\"194,-747.5 194,-793.5 \" stroke=\"#000000\"/>\n<text fill=\"#000000\" font-family=\"Times,serif\" font-size=\"14.00\" text-anchor=\"middle\" x=\"223\" y=\"-778.3\">input:</text>\n<polyline fill=\"none\" points=\"194,-770.5 252,-770.5 \" stroke=\"#000000\"/>\n<text fill=\"#000000\" font-family=\"Times,serif\" font-size=\"14.00\" text-anchor=\"middle\" x=\"223\" y=\"-755.3\">output:</text>\n<polyline fill=\"none\" points=\"252,-747.5 252,-793.5 \" stroke=\"#000000\"/>\n<text fill=\"#000000\" font-family=\"Times,serif\" font-size=\"14.00\" text-anchor=\"middle\" x=\"283\" y=\"-778.3\">(?, 1)</text>\n<polyline fill=\"none\" points=\"252,-770.5 314,-770.5 \" stroke=\"#000000\"/>\n<text fill=\"#000000\" font-family=\"Times,serif\" font-size=\"14.00\" text-anchor=\"middle\" x=\"283\" y=\"-755.3\">(?, 1, 8)</text>\n</g>\n<!-- 139639375854056&#45;&gt;139641219188104 -->\n<g class=\"edge\" id=\"edge1\">\n<title>139639375854056-&gt;139641219188104</title>\n<path d=\"M157,-830.3799C157,-822.1745 157,-812.7679 157,-803.8786\" fill=\"none\" stroke=\"#000000\"/>\n<polygon fill=\"#000000\" points=\"160.5001,-803.784 157,-793.784 153.5001,-803.784 160.5001,-803.784\" stroke=\"#000000\"/>\n</g>\n<!-- 139641177345944 -->\n<g class=\"node\" id=\"node2\">\n<title>139641177345944</title>\n<polygon fill=\"none\" points=\"373,-830.5 373,-876.5 601,-876.5 601,-830.5 373,-830.5\" stroke=\"#000000\"/>\n<text fill=\"#000000\" font-family=\"Times,serif\" font-size=\"14.00\" text-anchor=\"middle\" x=\"430\" y=\"-849.8\">User: InputLayer</text>\n<polyline fill=\"none\" points=\"487,-830.5 487,-876.5 \" stroke=\"#000000\"/>\n<text fill=\"#000000\" font-family=\"Times,serif\" font-size=\"14.00\" text-anchor=\"middle\" x=\"516\" y=\"-861.3\">input:</text>\n<polyline fill=\"none\" points=\"487,-853.5 545,-853.5 \" stroke=\"#000000\"/>\n<text fill=\"#000000\" font-family=\"Times,serif\" font-size=\"14.00\" text-anchor=\"middle\" x=\"516\" y=\"-838.3\">output:</text>\n<polyline fill=\"none\" points=\"545,-830.5 545,-876.5 \" stroke=\"#000000\"/>\n<text fill=\"#000000\" font-family=\"Times,serif\" font-size=\"14.00\" text-anchor=\"middle\" x=\"573\" y=\"-861.3\">[(?, 1)]</text>\n<polyline fill=\"none\" points=\"545,-853.5 601,-853.5 \" stroke=\"#000000\"/>\n<text fill=\"#000000\" font-family=\"Times,serif\" font-size=\"14.00\" text-anchor=\"middle\" x=\"573\" y=\"-838.3\">[(?, 1)]</text>\n</g>\n<!-- 139642036433080 -->\n<g class=\"node\" id=\"node4\">\n<title>139642036433080</title>\n<polygon fill=\"none\" points=\"332,-747.5 332,-793.5 642,-793.5 642,-747.5 332,-747.5\" stroke=\"#000000\"/>\n<text fill=\"#000000\" font-family=\"Times,serif\" font-size=\"14.00\" text-anchor=\"middle\" x=\"427\" y=\"-766.8\">User-Embedding: Embedding</text>\n<polyline fill=\"none\" points=\"522,-747.5 522,-793.5 \" stroke=\"#000000\"/>\n<text fill=\"#000000\" font-family=\"Times,serif\" font-size=\"14.00\" text-anchor=\"middle\" x=\"551\" y=\"-778.3\">input:</text>\n<polyline fill=\"none\" points=\"522,-770.5 580,-770.5 \" stroke=\"#000000\"/>\n<text fill=\"#000000\" font-family=\"Times,serif\" font-size=\"14.00\" text-anchor=\"middle\" x=\"551\" y=\"-755.3\">output:</text>\n<polyline fill=\"none\" points=\"580,-747.5 580,-793.5 \" stroke=\"#000000\"/>\n<text fill=\"#000000\" font-family=\"Times,serif\" font-size=\"14.00\" text-anchor=\"middle\" x=\"611\" y=\"-778.3\">(?, 1)</text>\n<polyline fill=\"none\" points=\"580,-770.5 642,-770.5 \" stroke=\"#000000\"/>\n<text fill=\"#000000\" font-family=\"Times,serif\" font-size=\"14.00\" text-anchor=\"middle\" x=\"611\" y=\"-755.3\">(?, 1, 5)</text>\n</g>\n<!-- 139641177345944&#45;&gt;139642036433080 -->\n<g class=\"edge\" id=\"edge2\">\n<title>139641177345944-&gt;139642036433080</title>\n<path d=\"M487,-830.3799C487,-822.1745 487,-812.7679 487,-803.8786\" fill=\"none\" stroke=\"#000000\"/>\n<polygon fill=\"#000000\" points=\"490.5001,-803.784 487,-793.784 483.5001,-803.784 490.5001,-803.784\" stroke=\"#000000\"/>\n</g>\n<!-- 139639377102776 -->\n<g class=\"node\" id=\"node5\">\n<title>139639377102776</title>\n<polygon fill=\"none\" points=\"60,-664.5 60,-710.5 312,-710.5 312,-664.5 60,-664.5\" stroke=\"#000000\"/>\n<text fill=\"#000000\" font-family=\"Times,serif\" font-size=\"14.00\" text-anchor=\"middle\" x=\"126\" y=\"-683.8\">Flattenbook: Flatten</text>\n<polyline fill=\"none\" points=\"192,-664.5 192,-710.5 \" stroke=\"#000000\"/>\n<text fill=\"#000000\" font-family=\"Times,serif\" font-size=\"14.00\" text-anchor=\"middle\" x=\"221\" y=\"-695.3\">input:</text>\n<polyline fill=\"none\" points=\"192,-687.5 250,-687.5 \" stroke=\"#000000\"/>\n<text fill=\"#000000\" font-family=\"Times,serif\" font-size=\"14.00\" text-anchor=\"middle\" x=\"221\" y=\"-672.3\">output:</text>\n<polyline fill=\"none\" points=\"250,-664.5 250,-710.5 \" stroke=\"#000000\"/>\n<text fill=\"#000000\" font-family=\"Times,serif\" font-size=\"14.00\" text-anchor=\"middle\" x=\"281\" y=\"-695.3\">(?, 1, 8)</text>\n<polyline fill=\"none\" points=\"250,-687.5 312,-687.5 \" stroke=\"#000000\"/>\n<text fill=\"#000000\" font-family=\"Times,serif\" font-size=\"14.00\" text-anchor=\"middle\" x=\"281\" y=\"-672.3\">(?, 8)</text>\n</g>\n<!-- 139641219188104&#45;&gt;139639377102776 -->\n<g class=\"edge\" id=\"edge3\">\n<title>139641219188104-&gt;139639377102776</title>\n<path d=\"M165.0781,-747.3799C168.0074,-738.9962 171.3748,-729.3584 174.5399,-720.2996\" fill=\"none\" stroke=\"#000000\"/>\n<polygon fill=\"#000000\" points=\"177.8702,-721.3788 177.8646,-710.784 171.262,-719.0699 177.8702,-721.3788\" stroke=\"#000000\"/>\n</g>\n<!-- 139639377103112 -->\n<g class=\"node\" id=\"node6\">\n<title>139639377103112</title>\n<polygon fill=\"none\" points=\"345,-664.5 345,-710.5 599,-710.5 599,-664.5 345,-664.5\" stroke=\"#000000\"/>\n<text fill=\"#000000\" font-family=\"Times,serif\" font-size=\"14.00\" text-anchor=\"middle\" x=\"412\" y=\"-683.8\">FlattenUsers: Flatten</text>\n<polyline fill=\"none\" points=\"479,-664.5 479,-710.5 \" stroke=\"#000000\"/>\n<text fill=\"#000000\" font-family=\"Times,serif\" font-size=\"14.00\" text-anchor=\"middle\" x=\"508\" y=\"-695.3\">input:</text>\n<polyline fill=\"none\" points=\"479,-687.5 537,-687.5 \" stroke=\"#000000\"/>\n<text fill=\"#000000\" font-family=\"Times,serif\" font-size=\"14.00\" text-anchor=\"middle\" x=\"508\" y=\"-672.3\">output:</text>\n<polyline fill=\"none\" points=\"537,-664.5 537,-710.5 \" stroke=\"#000000\"/>\n<text fill=\"#000000\" font-family=\"Times,serif\" font-size=\"14.00\" text-anchor=\"middle\" x=\"568\" y=\"-695.3\">(?, 1, 5)</text>\n<polyline fill=\"none\" points=\"537,-687.5 599,-687.5 \" stroke=\"#000000\"/>\n<text fill=\"#000000\" font-family=\"Times,serif\" font-size=\"14.00\" text-anchor=\"middle\" x=\"568\" y=\"-672.3\">(?, 5)</text>\n</g>\n<!-- 139642036433080&#45;&gt;139639377103112 -->\n<g class=\"edge\" id=\"edge4\">\n<title>139642036433080-&gt;139639377103112</title>\n<path d=\"M482.8217,-747.3799C481.3388,-739.1745 479.6388,-729.7679 478.0323,-720.8786\" fill=\"none\" stroke=\"#000000\"/>\n<polygon fill=\"#000000\" points=\"481.4307,-720.0021 476.208,-710.784 474.5422,-721.2471 481.4307,-720.0021\" stroke=\"#000000\"/>\n</g>\n<!-- 139639377100984 -->\n<g class=\"node\" id=\"node7\">\n<title>139639377100984</title>\n<polygon fill=\"none\" points=\"73.5,-581.5 73.5,-627.5 312.5,-627.5 312.5,-581.5 73.5,-581.5\" stroke=\"#000000\"/>\n<text fill=\"#000000\" font-family=\"Times,serif\" font-size=\"14.00\" text-anchor=\"middle\" x=\"140.5\" y=\"-600.8\">dropout_4: Dropout</text>\n<polyline fill=\"none\" points=\"207.5,-581.5 207.5,-627.5 \" stroke=\"#000000\"/>\n<text fill=\"#000000\" font-family=\"Times,serif\" font-size=\"14.00\" text-anchor=\"middle\" x=\"236.5\" y=\"-612.3\">input:</text>\n<polyline fill=\"none\" points=\"207.5,-604.5 265.5,-604.5 \" stroke=\"#000000\"/>\n<text fill=\"#000000\" font-family=\"Times,serif\" font-size=\"14.00\" text-anchor=\"middle\" x=\"236.5\" y=\"-589.3\">output:</text>\n<polyline fill=\"none\" points=\"265.5,-581.5 265.5,-627.5 \" stroke=\"#000000\"/>\n<text fill=\"#000000\" font-family=\"Times,serif\" font-size=\"14.00\" text-anchor=\"middle\" x=\"289\" y=\"-612.3\">(?, 8)</text>\n<polyline fill=\"none\" points=\"265.5,-604.5 312.5,-604.5 \" stroke=\"#000000\"/>\n<text fill=\"#000000\" font-family=\"Times,serif\" font-size=\"14.00\" text-anchor=\"middle\" x=\"289\" y=\"-589.3\">(?, 8)</text>\n</g>\n<!-- 139639377102776&#45;&gt;139639377100984 -->\n<g class=\"edge\" id=\"edge5\">\n<title>139639377102776-&gt;139639377100984</title>\n<path d=\"M187.9499,-664.3799C188.6419,-656.1745 189.4352,-646.7679 190.1849,-637.8786\" fill=\"none\" stroke=\"#000000\"/>\n<polygon fill=\"#000000\" points=\"193.6834,-638.0428 191.0363,-627.784 186.7082,-637.4545 193.6834,-638.0428\" stroke=\"#000000\"/>\n</g>\n<!-- 139641177725584 -->\n<g class=\"node\" id=\"node8\">\n<title>139641177725584</title>\n<polygon fill=\"none\" points=\"341.5,-581.5 341.5,-627.5 580.5,-627.5 580.5,-581.5 341.5,-581.5\" stroke=\"#000000\"/>\n<text fill=\"#000000\" font-family=\"Times,serif\" font-size=\"14.00\" text-anchor=\"middle\" x=\"408.5\" y=\"-600.8\">dropout_5: Dropout</text>\n<polyline fill=\"none\" points=\"475.5,-581.5 475.5,-627.5 \" stroke=\"#000000\"/>\n<text fill=\"#000000\" font-family=\"Times,serif\" font-size=\"14.00\" text-anchor=\"middle\" x=\"504.5\" y=\"-612.3\">input:</text>\n<polyline fill=\"none\" points=\"475.5,-604.5 533.5,-604.5 \" stroke=\"#000000\"/>\n<text fill=\"#000000\" font-family=\"Times,serif\" font-size=\"14.00\" text-anchor=\"middle\" x=\"504.5\" y=\"-589.3\">output:</text>\n<polyline fill=\"none\" points=\"533.5,-581.5 533.5,-627.5 \" stroke=\"#000000\"/>\n<text fill=\"#000000\" font-family=\"Times,serif\" font-size=\"14.00\" text-anchor=\"middle\" x=\"557\" y=\"-612.3\">(?, 5)</text>\n<polyline fill=\"none\" points=\"533.5,-604.5 580.5,-604.5 \" stroke=\"#000000\"/>\n<text fill=\"#000000\" font-family=\"Times,serif\" font-size=\"14.00\" text-anchor=\"middle\" x=\"557\" y=\"-589.3\">(?, 5)</text>\n</g>\n<!-- 139639377103112&#45;&gt;139641177725584 -->\n<g class=\"edge\" id=\"edge6\">\n<title>139639377103112-&gt;139641177725584</title>\n<path d=\"M468.9359,-664.3799C467.8484,-656.1745 466.6018,-646.7679 465.4237,-637.8786\" fill=\"none\" stroke=\"#000000\"/>\n<polygon fill=\"#000000\" points=\"468.8694,-637.2375 464.0858,-627.784 461.9301,-638.1572 468.8694,-637.2375\" stroke=\"#000000\"/>\n</g>\n<!-- 139641177725920 -->\n<g class=\"node\" id=\"node9\">\n<title>139641177725920</title>\n<polygon fill=\"none\" points=\"158,-498.5 158,-544.5 484,-544.5 484,-498.5 158,-498.5\" stroke=\"#000000\"/>\n<text fill=\"#000000\" font-family=\"Times,serif\" font-size=\"14.00\" text-anchor=\"middle\" x=\"245.5\" y=\"-517.8\">concatenate_2: Concatenate</text>\n<polyline fill=\"none\" points=\"333,-498.5 333,-544.5 \" stroke=\"#000000\"/>\n<text fill=\"#000000\" font-family=\"Times,serif\" font-size=\"14.00\" text-anchor=\"middle\" x=\"362\" y=\"-529.3\">input:</text>\n<polyline fill=\"none\" points=\"333,-521.5 391,-521.5 \" stroke=\"#000000\"/>\n<text fill=\"#000000\" font-family=\"Times,serif\" font-size=\"14.00\" text-anchor=\"middle\" x=\"362\" y=\"-506.3\">output:</text>\n<polyline fill=\"none\" points=\"391,-498.5 391,-544.5 \" stroke=\"#000000\"/>\n<text fill=\"#000000\" font-family=\"Times,serif\" font-size=\"14.00\" text-anchor=\"middle\" x=\"437.5\" y=\"-529.3\">[(?, 8), (?, 5)]</text>\n<polyline fill=\"none\" points=\"391,-521.5 484,-521.5 \" stroke=\"#000000\"/>\n<text fill=\"#000000\" font-family=\"Times,serif\" font-size=\"14.00\" text-anchor=\"middle\" x=\"437.5\" y=\"-506.3\">(?, 13)</text>\n</g>\n<!-- 139639377100984&#45;&gt;139641177725920 -->\n<g class=\"edge\" id=\"edge7\">\n<title>139639377100984-&gt;139641177725920</title>\n<path d=\"M228.6551,-581.3799C243.5098,-571.7475 260.9176,-560.4597 276.5906,-550.2967\" fill=\"none\" stroke=\"#000000\"/>\n<polygon fill=\"#000000\" points=\"278.6059,-553.1614 285.0921,-544.784 274.7975,-547.2881 278.6059,-553.1614\" stroke=\"#000000\"/>\n</g>\n<!-- 139641177725584&#45;&gt;139641177725920 -->\n<g class=\"edge\" id=\"edge8\">\n<title>139641177725584-&gt;139641177725920</title>\n<path d=\"M422.0022,-581.3799C405.6044,-571.6583 386.3623,-560.2505 369.0971,-550.0147\" fill=\"none\" stroke=\"#000000\"/>\n<polygon fill=\"#000000\" points=\"370.6611,-546.8731 360.2742,-544.784 367.0912,-552.8944 370.6611,-546.8731\" stroke=\"#000000\"/>\n</g>\n<!-- 139639377303816 -->\n<g class=\"node\" id=\"node10\">\n<title>139639377303816</title>\n<polygon fill=\"none\" points=\"177.5,-415.5 177.5,-461.5 464.5,-461.5 464.5,-415.5 177.5,-415.5\" stroke=\"#000000\"/>\n<text fill=\"#000000\" font-family=\"Times,serif\" font-size=\"14.00\" text-anchor=\"middle\" x=\"261\" y=\"-434.8\">FullyConnected_1: Dense</text>\n<polyline fill=\"none\" points=\"344.5,-415.5 344.5,-461.5 \" stroke=\"#000000\"/>\n<text fill=\"#000000\" font-family=\"Times,serif\" font-size=\"14.00\" text-anchor=\"middle\" x=\"373.5\" y=\"-446.3\">input:</text>\n<polyline fill=\"none\" points=\"344.5,-438.5 402.5,-438.5 \" stroke=\"#000000\"/>\n<text fill=\"#000000\" font-family=\"Times,serif\" font-size=\"14.00\" text-anchor=\"middle\" x=\"373.5\" y=\"-423.3\">output:</text>\n<polyline fill=\"none\" points=\"402.5,-415.5 402.5,-461.5 \" stroke=\"#000000\"/>\n<text fill=\"#000000\" font-family=\"Times,serif\" font-size=\"14.00\" text-anchor=\"middle\" x=\"433.5\" y=\"-446.3\">(?, 13)</text>\n<polyline fill=\"none\" points=\"402.5,-438.5 464.5,-438.5 \" stroke=\"#000000\"/>\n<text fill=\"#000000\" font-family=\"Times,serif\" font-size=\"14.00\" text-anchor=\"middle\" x=\"433.5\" y=\"-423.3\">(?, 256)</text>\n</g>\n<!-- 139641177725920&#45;&gt;139639377303816 -->\n<g class=\"edge\" id=\"edge9\">\n<title>139641177725920-&gt;139639377303816</title>\n<path d=\"M321,-498.3799C321,-490.1745 321,-480.7679 321,-471.8786\" fill=\"none\" stroke=\"#000000\"/>\n<polygon fill=\"#000000\" points=\"324.5001,-471.784 321,-461.784 317.5001,-471.784 324.5001,-471.784\" stroke=\"#000000\"/>\n</g>\n<!-- 139639376841976 -->\n<g class=\"node\" id=\"node11\">\n<title>139639376841976</title>\n<polygon fill=\"none\" points=\"177.5,-332.5 177.5,-378.5 464.5,-378.5 464.5,-332.5 177.5,-332.5\" stroke=\"#000000\"/>\n<text fill=\"#000000\" font-family=\"Times,serif\" font-size=\"14.00\" text-anchor=\"middle\" x=\"261\" y=\"-351.8\">FullyConnected_2: Dense</text>\n<polyline fill=\"none\" points=\"344.5,-332.5 344.5,-378.5 \" stroke=\"#000000\"/>\n<text fill=\"#000000\" font-family=\"Times,serif\" font-size=\"14.00\" text-anchor=\"middle\" x=\"373.5\" y=\"-363.3\">input:</text>\n<polyline fill=\"none\" points=\"344.5,-355.5 402.5,-355.5 \" stroke=\"#000000\"/>\n<text fill=\"#000000\" font-family=\"Times,serif\" font-size=\"14.00\" text-anchor=\"middle\" x=\"373.5\" y=\"-340.3\">output:</text>\n<polyline fill=\"none\" points=\"402.5,-332.5 402.5,-378.5 \" stroke=\"#000000\"/>\n<text fill=\"#000000\" font-family=\"Times,serif\" font-size=\"14.00\" text-anchor=\"middle\" x=\"433.5\" y=\"-363.3\">(?, 256)</text>\n<polyline fill=\"none\" points=\"402.5,-355.5 464.5,-355.5 \" stroke=\"#000000\"/>\n<text fill=\"#000000\" font-family=\"Times,serif\" font-size=\"14.00\" text-anchor=\"middle\" x=\"433.5\" y=\"-340.3\">(?, 128)</text>\n</g>\n<!-- 139639377303816&#45;&gt;139639376841976 -->\n<g class=\"edge\" id=\"edge10\">\n<title>139639377303816-&gt;139639376841976</title>\n<path d=\"M321,-415.3799C321,-407.1745 321,-397.7679 321,-388.8786\" fill=\"none\" stroke=\"#000000\"/>\n<polygon fill=\"#000000\" points=\"324.5001,-388.784 321,-378.784 317.5001,-388.784 324.5001,-388.784\" stroke=\"#000000\"/>\n</g>\n<!-- 139639376841304 -->\n<g class=\"node\" id=\"node12\">\n<title>139639376841304</title>\n<polygon fill=\"none\" points=\"177.5,-249.5 177.5,-295.5 464.5,-295.5 464.5,-249.5 177.5,-249.5\" stroke=\"#000000\"/>\n<text fill=\"#000000\" font-family=\"Times,serif\" font-size=\"14.00\" text-anchor=\"middle\" x=\"261\" y=\"-268.8\">FullyConnected_3: Dense</text>\n<polyline fill=\"none\" points=\"344.5,-249.5 344.5,-295.5 \" stroke=\"#000000\"/>\n<text fill=\"#000000\" font-family=\"Times,serif\" font-size=\"14.00\" text-anchor=\"middle\" x=\"373.5\" y=\"-280.3\">input:</text>\n<polyline fill=\"none\" points=\"344.5,-272.5 402.5,-272.5 \" stroke=\"#000000\"/>\n<text fill=\"#000000\" font-family=\"Times,serif\" font-size=\"14.00\" text-anchor=\"middle\" x=\"373.5\" y=\"-257.3\">output:</text>\n<polyline fill=\"none\" points=\"402.5,-249.5 402.5,-295.5 \" stroke=\"#000000\"/>\n<text fill=\"#000000\" font-family=\"Times,serif\" font-size=\"14.00\" text-anchor=\"middle\" x=\"433.5\" y=\"-280.3\">(?, 128)</text>\n<polyline fill=\"none\" points=\"402.5,-272.5 464.5,-272.5 \" stroke=\"#000000\"/>\n<text fill=\"#000000\" font-family=\"Times,serif\" font-size=\"14.00\" text-anchor=\"middle\" x=\"433.5\" y=\"-257.3\">(?, 64)</text>\n</g>\n<!-- 139639376841976&#45;&gt;139639376841304 -->\n<g class=\"edge\" id=\"edge11\">\n<title>139639376841976-&gt;139639376841304</title>\n<path d=\"M321,-332.3799C321,-324.1745 321,-314.7679 321,-305.8786\" fill=\"none\" stroke=\"#000000\"/>\n<polygon fill=\"#000000\" points=\"324.5001,-305.784 321,-295.784 317.5001,-305.784 324.5001,-305.784\" stroke=\"#000000\"/>\n</g>\n<!-- 139639376315728 -->\n<g class=\"node\" id=\"node13\">\n<title>139639376315728</title>\n<polygon fill=\"none\" points=\"181.5,-166.5 181.5,-212.5 460.5,-212.5 460.5,-166.5 181.5,-166.5\" stroke=\"#000000\"/>\n<text fill=\"#000000\" font-family=\"Times,serif\" font-size=\"14.00\" text-anchor=\"middle\" x=\"265\" y=\"-185.8\">FullyConnected_4: Dense</text>\n<polyline fill=\"none\" points=\"348.5,-166.5 348.5,-212.5 \" stroke=\"#000000\"/>\n<text fill=\"#000000\" font-family=\"Times,serif\" font-size=\"14.00\" text-anchor=\"middle\" x=\"377.5\" y=\"-197.3\">input:</text>\n<polyline fill=\"none\" points=\"348.5,-189.5 406.5,-189.5 \" stroke=\"#000000\"/>\n<text fill=\"#000000\" font-family=\"Times,serif\" font-size=\"14.00\" text-anchor=\"middle\" x=\"377.5\" y=\"-174.3\">output:</text>\n<polyline fill=\"none\" points=\"406.5,-166.5 406.5,-212.5 \" stroke=\"#000000\"/>\n<text fill=\"#000000\" font-family=\"Times,serif\" font-size=\"14.00\" text-anchor=\"middle\" x=\"433.5\" y=\"-197.3\">(?, 64)</text>\n<polyline fill=\"none\" points=\"406.5,-189.5 460.5,-189.5 \" stroke=\"#000000\"/>\n<text fill=\"#000000\" font-family=\"Times,serif\" font-size=\"14.00\" text-anchor=\"middle\" x=\"433.5\" y=\"-174.3\">(?, 32)</text>\n</g>\n<!-- 139639376841304&#45;&gt;139639376315728 -->\n<g class=\"edge\" id=\"edge12\">\n<title>139639376841304-&gt;139639376315728</title>\n<path d=\"M321,-249.3799C321,-241.1745 321,-231.7679 321,-222.8786\" fill=\"none\" stroke=\"#000000\"/>\n<polygon fill=\"#000000\" points=\"324.5001,-222.784 321,-212.784 317.5001,-222.784 324.5001,-222.784\" stroke=\"#000000\"/>\n</g>\n<!-- 139642036955344 -->\n<g class=\"node\" id=\"node14\">\n<title>139642036955344</title>\n<polygon fill=\"none\" points=\"181.5,-83.5 181.5,-129.5 460.5,-129.5 460.5,-83.5 181.5,-83.5\" stroke=\"#000000\"/>\n<text fill=\"#000000\" font-family=\"Times,serif\" font-size=\"14.00\" text-anchor=\"middle\" x=\"265\" y=\"-102.8\">FullyConnected_5: Dense</text>\n<polyline fill=\"none\" points=\"348.5,-83.5 348.5,-129.5 \" stroke=\"#000000\"/>\n<text fill=\"#000000\" font-family=\"Times,serif\" font-size=\"14.00\" text-anchor=\"middle\" x=\"377.5\" y=\"-114.3\">input:</text>\n<polyline fill=\"none\" points=\"348.5,-106.5 406.5,-106.5 \" stroke=\"#000000\"/>\n<text fill=\"#000000\" font-family=\"Times,serif\" font-size=\"14.00\" text-anchor=\"middle\" x=\"377.5\" y=\"-91.3\">output:</text>\n<polyline fill=\"none\" points=\"406.5,-83.5 406.5,-129.5 \" stroke=\"#000000\"/>\n<text fill=\"#000000\" font-family=\"Times,serif\" font-size=\"14.00\" text-anchor=\"middle\" x=\"433.5\" y=\"-114.3\">(?, 32)</text>\n<polyline fill=\"none\" points=\"406.5,-106.5 460.5,-106.5 \" stroke=\"#000000\"/>\n<text fill=\"#000000\" font-family=\"Times,serif\" font-size=\"14.00\" text-anchor=\"middle\" x=\"433.5\" y=\"-91.3\">(?, 16)</text>\n</g>\n<!-- 139639376315728&#45;&gt;139642036955344 -->\n<g class=\"edge\" id=\"edge13\">\n<title>139639376315728-&gt;139642036955344</title>\n<path d=\"M321,-166.3799C321,-158.1745 321,-148.7679 321,-139.8786\" fill=\"none\" stroke=\"#000000\"/>\n<polygon fill=\"#000000\" points=\"324.5001,-139.784 321,-129.784 317.5001,-139.784 324.5001,-139.784\" stroke=\"#000000\"/>\n</g>\n<!-- 139639375801704 -->\n<g class=\"node\" id=\"node15\">\n<title>139639375801704</title>\n<polygon fill=\"none\" points=\"205.5,-.5 205.5,-46.5 436.5,-46.5 436.5,-.5 205.5,-.5\" stroke=\"#000000\"/>\n<text fill=\"#000000\" font-family=\"Times,serif\" font-size=\"14.00\" text-anchor=\"middle\" x=\"265\" y=\"-19.8\">Activation: Dense</text>\n<polyline fill=\"none\" points=\"324.5,-.5 324.5,-46.5 \" stroke=\"#000000\"/>\n<text fill=\"#000000\" font-family=\"Times,serif\" font-size=\"14.00\" text-anchor=\"middle\" x=\"353.5\" y=\"-31.3\">input:</text>\n<polyline fill=\"none\" points=\"324.5,-23.5 382.5,-23.5 \" stroke=\"#000000\"/>\n<text fill=\"#000000\" font-family=\"Times,serif\" font-size=\"14.00\" text-anchor=\"middle\" x=\"353.5\" y=\"-8.3\">output:</text>\n<polyline fill=\"none\" points=\"382.5,-.5 382.5,-46.5 \" stroke=\"#000000\"/>\n<text fill=\"#000000\" font-family=\"Times,serif\" font-size=\"14.00\" text-anchor=\"middle\" x=\"409.5\" y=\"-31.3\">(?, 16)</text>\n<polyline fill=\"none\" points=\"382.5,-23.5 436.5,-23.5 \" stroke=\"#000000\"/>\n<text fill=\"#000000\" font-family=\"Times,serif\" font-size=\"14.00\" text-anchor=\"middle\" x=\"409.5\" y=\"-8.3\">(?, 1)</text>\n</g>\n<!-- 139642036955344&#45;&gt;139639375801704 -->\n<g class=\"edge\" id=\"edge14\">\n<title>139642036955344-&gt;139639375801704</title>\n<path d=\"M321,-83.3799C321,-75.1745 321,-65.7679 321,-56.8786\" fill=\"none\" stroke=\"#000000\"/>\n<polygon fill=\"#000000\" points=\"324.5001,-56.784 321,-46.784 317.5001,-56.784 324.5001,-56.784\" stroke=\"#000000\"/>\n</g>\n</g>\n</svg>"
          },
          "metadata": {
            "tags": []
          },
          "execution_count": 17
        }
      ]
    },
    {
      "cell_type": "code",
      "metadata": {
        "id": "rD_vGIUvNdvp",
        "colab": {
          "base_uri": "https://localhost:8080/"
        },
        "outputId": "fbbd5dc0-e88f-481d-b0f5-f075eac2b1a8"
      },
      "source": [
        "model.summary()\n"
      ],
      "execution_count": null,
      "outputs": [
        {
          "output_type": "stream",
          "text": [
            "Model: \"functional_5\"\n",
            "__________________________________________________________________________________________________\n",
            "Layer (type)                    Output Shape         Param #     Connected to                     \n",
            "==================================================================================================\n",
            "Item (InputLayer)               [(None, 1)]          0                                            \n",
            "__________________________________________________________________________________________________\n",
            "User (InputLayer)               [(None, 1)]          0                                            \n",
            "__________________________________________________________________________________________________\n",
            "book-Embedding (Embedding)      (None, 1, 8)         80008       Item[0][0]                       \n",
            "__________________________________________________________________________________________________\n",
            "User-Embedding (Embedding)      (None, 1, 5)         267125      User[0][0]                       \n",
            "__________________________________________________________________________________________________\n",
            "Flattenbook (Flatten)           (None, 8)            0           book-Embedding[0][0]             \n",
            "__________________________________________________________________________________________________\n",
            "FlattenUsers (Flatten)          (None, 5)            0           User-Embedding[0][0]             \n",
            "__________________________________________________________________________________________________\n",
            "dropout_4 (Dropout)             (None, 8)            0           Flattenbook[0][0]                \n",
            "__________________________________________________________________________________________________\n",
            "dropout_5 (Dropout)             (None, 5)            0           FlattenUsers[0][0]               \n",
            "__________________________________________________________________________________________________\n",
            "concatenate_2 (Concatenate)     (None, 13)           0           dropout_4[0][0]                  \n",
            "                                                                 dropout_5[0][0]                  \n",
            "__________________________________________________________________________________________________\n",
            "FullyConnected_1 (Dense)        (None, 256)          3584        concatenate_2[0][0]              \n",
            "__________________________________________________________________________________________________\n",
            "FullyConnected_2 (Dense)        (None, 128)          32896       FullyConnected_1[0][0]           \n",
            "__________________________________________________________________________________________________\n",
            "FullyConnected_3 (Dense)        (None, 64)           8256        FullyConnected_2[0][0]           \n",
            "__________________________________________________________________________________________________\n",
            "FullyConnected_4 (Dense)        (None, 32)           2080        FullyConnected_3[0][0]           \n",
            "__________________________________________________________________________________________________\n",
            "FullyConnected_5 (Dense)        (None, 16)           528         FullyConnected_4[0][0]           \n",
            "__________________________________________________________________________________________________\n",
            "Activation (Dense)              (None, 1)            17          FullyConnected_5[0][0]           \n",
            "==================================================================================================\n",
            "Total params: 394,494\n",
            "Trainable params: 394,494\n",
            "Non-trainable params: 0\n",
            "__________________________________________________________________________________________________\n"
          ],
          "name": "stdout"
        }
      ]
    },
    {
      "cell_type": "code",
      "metadata": {
        "id": "3zntHszMNjiO",
        "colab": {
          "base_uri": "https://localhost:8080/",
          "height": 201
        },
        "outputId": "52bf38dd-16d2-430b-d0bc-a2f35f45203f"
      },
      "source": [
        "\n",
        "\n",
        "history = model.fit([train.user_id, train.book_id], train.rating, epochs=20,verbose=1, batch_size=40000 )"
      ],
      "execution_count": null,
      "outputs": [
        {
          "output_type": "error",
          "ename": "NameError",
          "evalue": "ignored",
          "traceback": [
            "\u001b[0;31m---------------------------------------------------------------------------\u001b[0m",
            "\u001b[0;31mNameError\u001b[0m                                 Traceback (most recent call last)",
            "\u001b[0;32m<ipython-input-21-cc8faaf1d646>\u001b[0m in \u001b[0;36m<module>\u001b[0;34m()\u001b[0m\n\u001b[1;32m      1\u001b[0m \u001b[0;34m\u001b[0m\u001b[0m\n\u001b[1;32m      2\u001b[0m \u001b[0;34m\u001b[0m\u001b[0m\n\u001b[0;32m----> 3\u001b[0;31m \u001b[0mhistory\u001b[0m \u001b[0;34m=\u001b[0m \u001b[0mmodel\u001b[0m\u001b[0;34m.\u001b[0m\u001b[0mfit\u001b[0m\u001b[0;34m(\u001b[0m\u001b[0;34m[\u001b[0m\u001b[0mtrain\u001b[0m\u001b[0;34m.\u001b[0m\u001b[0muser_id\u001b[0m\u001b[0;34m,\u001b[0m \u001b[0mtrain\u001b[0m\u001b[0;34m.\u001b[0m\u001b[0mbook_id\u001b[0m\u001b[0;34m]\u001b[0m\u001b[0;34m,\u001b[0m \u001b[0mtrain\u001b[0m\u001b[0;34m.\u001b[0m\u001b[0mrating\u001b[0m\u001b[0;34m,\u001b[0m \u001b[0mepochs\u001b[0m\u001b[0;34m=\u001b[0m\u001b[0;36m20\u001b[0m\u001b[0;34m,\u001b[0m\u001b[0mverbose\u001b[0m\u001b[0;34m=\u001b[0m\u001b[0;36m1\u001b[0m\u001b[0;34m,\u001b[0m \u001b[0mbatch_size\u001b[0m\u001b[0;34m=\u001b[0m\u001b[0;36m40000\u001b[0m \u001b[0;34m)\u001b[0m\u001b[0;34m\u001b[0m\u001b[0;34m\u001b[0m\u001b[0m\n\u001b[0m",
            "\u001b[0;31mNameError\u001b[0m: name 'train' is not defined"
          ]
        }
      ]
    },
    {
      "cell_type": "code",
      "metadata": {
        "id": "tE8sOEYFVWIK",
        "colab": {
          "base_uri": "https://localhost:8080/",
          "height": 183
        },
        "outputId": "3cbd4553-9c93-4199-d914-850c4acdf65b"
      },
      "source": [
        "y_hat = np.round(model.predict([test.user_id, test.book_id]),0)\n",
        "y_true = test.rating"
      ],
      "execution_count": null,
      "outputs": [
        {
          "output_type": "error",
          "ename": "NameError",
          "evalue": "ignored",
          "traceback": [
            "\u001b[0;31m---------------------------------------------------------------------------\u001b[0m",
            "\u001b[0;31mNameError\u001b[0m                                 Traceback (most recent call last)",
            "\u001b[0;32m<ipython-input-20-7b65636b3572>\u001b[0m in \u001b[0;36m<module>\u001b[0;34m()\u001b[0m\n\u001b[0;32m----> 1\u001b[0;31m \u001b[0my_hat\u001b[0m \u001b[0;34m=\u001b[0m \u001b[0mnp\u001b[0m\u001b[0;34m.\u001b[0m\u001b[0mround\u001b[0m\u001b[0;34m(\u001b[0m\u001b[0mmodel\u001b[0m\u001b[0;34m.\u001b[0m\u001b[0mpredict\u001b[0m\u001b[0;34m(\u001b[0m\u001b[0;34m[\u001b[0m\u001b[0mtest\u001b[0m\u001b[0;34m.\u001b[0m\u001b[0muser_id\u001b[0m\u001b[0;34m,\u001b[0m \u001b[0mtest\u001b[0m\u001b[0;34m.\u001b[0m\u001b[0mbook_id\u001b[0m\u001b[0;34m]\u001b[0m\u001b[0;34m)\u001b[0m\u001b[0;34m,\u001b[0m\u001b[0;36m0\u001b[0m\u001b[0;34m)\u001b[0m\u001b[0;34m\u001b[0m\u001b[0;34m\u001b[0m\u001b[0m\n\u001b[0m\u001b[1;32m      2\u001b[0m \u001b[0my_true\u001b[0m \u001b[0;34m=\u001b[0m \u001b[0mtest\u001b[0m\u001b[0;34m.\u001b[0m\u001b[0mrating\u001b[0m\u001b[0;34m\u001b[0m\u001b[0;34m\u001b[0m\u001b[0m\n",
            "\u001b[0;31mNameError\u001b[0m: name 'test' is not defined"
          ]
        }
      ]
    },
    {
      "cell_type": "code",
      "metadata": {
        "id": "p3E8YSvwCnUU",
        "colab": {
          "base_uri": "https://localhost:8080/",
          "height": 34
        },
        "outputId": "de59730a-1bde-422e-b4d1-22bde9e14d96"
      },
      "source": [
        "from sklearn.metrics import mean_squared_error\n",
        "\n",
        "mean_squared_error(y_true, y_hat)"
      ],
      "execution_count": null,
      "outputs": [
        {
          "output_type": "execute_result",
          "data": {
            "text/plain": [
              "0.897773671114474"
            ]
          },
          "metadata": {
            "tags": []
          },
          "execution_count": 59
        }
      ]
    },
    {
      "cell_type": "code",
      "metadata": {
        "id": "5OQB9dJWVYyl",
        "colab": {
          "base_uri": "https://localhost:8080/",
          "height": 34
        },
        "outputId": "37978cc3-0d0d-4038-edb0-40e469f6b28b"
      },
      "source": [
        "from sklearn.metrics import mean_absolute_error\n",
        "\n",
        "mean_absolute_error(y_true, y_hat)"
      ],
      "execution_count": null,
      "outputs": [
        {
          "output_type": "execute_result",
          "data": {
            "text/plain": [
              "0.6377180856481818"
            ]
          },
          "metadata": {
            "tags": []
          },
          "execution_count": 60
        }
      ]
    }
  ]
}